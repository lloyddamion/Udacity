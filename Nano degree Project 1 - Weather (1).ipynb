{
 "cells": [
  {
   "cell_type": "markdown",
   "metadata": {
    "collapsed": false
   },
   "source": [
    "NANO DEGREE - Project 1 - Weather Data\n",
    "--------------------------------------"
   ]
  },
  {
   "cell_type": "markdown",
   "metadata": {
    "collapsed": false
   },
   "source": [
    "The globe is warming. In 2013, the Intergovernmental Panel on Climate Change (IPCC) concluded in \n",
    "its authoritative fifth assessment report that \n",
    "\n",
    "\"Warming of the climate system is unequivocal, and since the 1950s, many of the observed changes \n",
    "are unprecedented over decades to millennia. The atmosphere and ocean have warmed, the amounts \n",
    "of snow and ice have diminished, sea level has risen, and the concentrations of greenhouse gases\n",
    "have increased\". \n",
    "\n",
    "They also stated that “Human influence on the climate system is clear.” \n",
    "\n",
    "Referrence: \n",
    "[Union of Concerned Scientists]\n",
    "(https://www.ucsusa.org/global-warming/science-and-impacts/science/temperature-is-rising)"
   ]
  },
  {
   "cell_type": "markdown",
   "metadata": {
    "collapsed": false
   },
   "source": [
    "In this project I've explored the given datasets and drawn some conclusions on the rising temperatures.\n",
    "Since I live in Australia I've used Sydney as the city of my choice to compare to the global temperature.\n",
    "As I'm of Sri Lankan origin I chose Colombo as the additional city to analyse it's temperature."
   ]
  },
  {
   "cell_type": "code",
   "execution_count": 1,
   "metadata": {
    "collapsed": false
   },
   "outputs": [
   ],
   "source": [
    "#----------------------------------------------#\n",
    "#Below are the SQL queries used to extract data\n",
    "#----------------------------------------------#\n",
    "\n",
    "select * from global_data;\n",
    "\n",
    "select * from city_list;\n",
    "\n",
    "select * from city_data\n",
    "where country = 'Australia'\n",
    "and city = 'Sydney';\n"
   ]
  },
  {
   "cell_type": "markdown",
   "metadata": {
    "collapsed": false
   },
   "source": [
    "I chose to do complete this project in Python as I want to further my data analysis career in this language. "
   ]
  },
  {
   "cell_type": "code",
   "execution_count": 1,
   "metadata": {
    "collapsed": false
   },
   "outputs": [
   ],
   "source": [
    "#------------------------------------#\n",
    "#Import python libraries\n",
    "#------------------------------------#\n",
    "\n",
    "import matplotlib.pyplot as plt\n",
    "import numpy as np\n",
    "import pandas as pd\n",
    "import seaborn as sns"
   ]
  },
  {
   "cell_type": "markdown",
   "metadata": {
    "collapsed": false
   },
   "source": [
    "Sydney weather data\n",
    "-----------"
   ]
  },
  {
   "cell_type": "code",
   "execution_count": 2,
   "metadata": {
    "collapsed": false
   },
   "outputs": [
    {
     "name": "stdout",
     "output_type": "stream",
     "text": [
      "173\n",
      "   year    city    country  avg_temp\n",
      "0  1841  Sydney  Australia     16.56\n",
      "1  1842  Sydney  Australia     16.57\n",
      "2  1843  Sydney  Australia     16.88\n",
      "3  1844  Sydney  Australia     16.22\n",
      "4  1845  Sydney  Australia     16.64\n"
     ]
    }
   ],
   "source": [
    "#-------------------------------#\n",
    "#Reading the Sydney weather data\n",
    "#-------------------------------#\n",
    "\n",
    "sydweather = pd.read_csv('sydney_data.csv')\n",
    "print(len(sydweather))\n",
    "print(sydweather.head())"
   ]
  },
  {
   "cell_type": "code",
   "execution_count": 3,
   "metadata": {
    "collapsed": false
   },
   "outputs": [
    {
     "data": {
      "text/html": [
       "<div>\n",
       "<style scoped>\n",
       "    .dataframe tbody tr th:only-of-type {\n",
       "        vertical-align: middle;\n",
       "    }\n",
       "\n",
       "    .dataframe tbody tr th {\n",
       "        vertical-align: top;\n",
       "    }\n",
       "\n",
       "    .dataframe thead th {\n",
       "        text-align: right;\n",
       "    }\n",
       "</style>\n",
       "<table border=\"1\" class=\"dataframe\">\n",
       "  <thead>\n",
       "    <tr style=\"text-align: right;\">\n",
       "      <th></th>\n",
       "      <th>year</th>\n",
       "      <th>city</th>\n",
       "      <th>country</th>\n",
       "      <th>avg_temp</th>\n",
       "      <th>MA</th>\n",
       "    </tr>\n",
       "  </thead>\n",
       "  <tbody>\n",
       "    <tr>\n",
       "      <th>0</th>\n",
       "      <td>1841</td>\n",
       "      <td>Sydney</td>\n",
       "      <td>Australia</td>\n",
       "      <td>16.56</td>\n",
       "      <td>NaN</td>\n",
       "    </tr>\n",
       "    <tr>\n",
       "      <th>1</th>\n",
       "      <td>1842</td>\n",
       "      <td>Sydney</td>\n",
       "      <td>Australia</td>\n",
       "      <td>16.57</td>\n",
       "      <td>NaN</td>\n",
       "    </tr>\n",
       "    <tr>\n",
       "      <th>2</th>\n",
       "      <td>1843</td>\n",
       "      <td>Sydney</td>\n",
       "      <td>Australia</td>\n",
       "      <td>16.88</td>\n",
       "      <td>NaN</td>\n",
       "    </tr>\n",
       "    <tr>\n",
       "      <th>3</th>\n",
       "      <td>1844</td>\n",
       "      <td>Sydney</td>\n",
       "      <td>Australia</td>\n",
       "      <td>16.22</td>\n",
       "      <td>NaN</td>\n",
       "    </tr>\n",
       "    <tr>\n",
       "      <th>4</th>\n",
       "      <td>1845</td>\n",
       "      <td>Sydney</td>\n",
       "      <td>Australia</td>\n",
       "      <td>16.64</td>\n",
       "      <td>NaN</td>\n",
       "    </tr>\n",
       "    <tr>\n",
       "      <th>5</th>\n",
       "      <td>1846</td>\n",
       "      <td>Sydney</td>\n",
       "      <td>Australia</td>\n",
       "      <td>17.07</td>\n",
       "      <td>NaN</td>\n",
       "    </tr>\n",
       "    <tr>\n",
       "      <th>6</th>\n",
       "      <td>1847</td>\n",
       "      <td>Sydney</td>\n",
       "      <td>Australia</td>\n",
       "      <td>16.60</td>\n",
       "      <td>NaN</td>\n",
       "    </tr>\n",
       "    <tr>\n",
       "      <th>7</th>\n",
       "      <td>1848</td>\n",
       "      <td>Sydney</td>\n",
       "      <td>Australia</td>\n",
       "      <td>16.25</td>\n",
       "      <td>NaN</td>\n",
       "    </tr>\n",
       "    <tr>\n",
       "      <th>8</th>\n",
       "      <td>1849</td>\n",
       "      <td>Sydney</td>\n",
       "      <td>Australia</td>\n",
       "      <td>16.08</td>\n",
       "      <td>NaN</td>\n",
       "    </tr>\n",
       "    <tr>\n",
       "      <th>9</th>\n",
       "      <td>1850</td>\n",
       "      <td>Sydney</td>\n",
       "      <td>Australia</td>\n",
       "      <td>16.51</td>\n",
       "      <td>16.538</td>\n",
       "    </tr>\n",
       "    <tr>\n",
       "      <th>10</th>\n",
       "      <td>1851</td>\n",
       "      <td>Sydney</td>\n",
       "      <td>Australia</td>\n",
       "      <td>16.60</td>\n",
       "      <td>16.542</td>\n",
       "    </tr>\n",
       "    <tr>\n",
       "      <th>11</th>\n",
       "      <td>1852</td>\n",
       "      <td>Sydney</td>\n",
       "      <td>Australia</td>\n",
       "      <td>16.39</td>\n",
       "      <td>16.524</td>\n",
       "    </tr>\n",
       "    <tr>\n",
       "      <th>12</th>\n",
       "      <td>1853</td>\n",
       "      <td>Sydney</td>\n",
       "      <td>Australia</td>\n",
       "      <td>16.10</td>\n",
       "      <td>16.446</td>\n",
       "    </tr>\n",
       "    <tr>\n",
       "      <th>13</th>\n",
       "      <td>1854</td>\n",
       "      <td>Sydney</td>\n",
       "      <td>Australia</td>\n",
       "      <td>16.48</td>\n",
       "      <td>16.472</td>\n",
       "    </tr>\n",
       "    <tr>\n",
       "      <th>14</th>\n",
       "      <td>1855</td>\n",
       "      <td>Sydney</td>\n",
       "      <td>Australia</td>\n",
       "      <td>16.90</td>\n",
       "      <td>16.498</td>\n",
       "    </tr>\n",
       "  </tbody>\n",
       "</table>\n",
       "</div>"
      ],
      "text/plain": [
       "    year    city    country  avg_temp      MA\n",
       "0   1841  Sydney  Australia     16.56     NaN\n",
       "1   1842  Sydney  Australia     16.57     NaN\n",
       "2   1843  Sydney  Australia     16.88     NaN\n",
       "3   1844  Sydney  Australia     16.22     NaN\n",
       "4   1845  Sydney  Australia     16.64     NaN\n",
       "5   1846  Sydney  Australia     17.07     NaN\n",
       "6   1847  Sydney  Australia     16.60     NaN\n",
       "7   1848  Sydney  Australia     16.25     NaN\n",
       "8   1849  Sydney  Australia     16.08     NaN\n",
       "9   1850  Sydney  Australia     16.51  16.538\n",
       "10  1851  Sydney  Australia     16.60  16.542\n",
       "11  1852  Sydney  Australia     16.39  16.524\n",
       "12  1853  Sydney  Australia     16.10  16.446\n",
       "13  1854  Sydney  Australia     16.48  16.472\n",
       "14  1855  Sydney  Australia     16.90  16.498"
      ]
     },
     "execution_count": 3,
     "metadata": {
     },
     "output_type": "execute_result"
    }
   ],
   "source": [
    "#------------------------------------------------------#\n",
    "#Calculating the moving average for Sydney weather data\n",
    "#------------------------------------------------------#\n",
    "\n",
    "def cal_rolling_avg(df, field, win):\n",
    "    df['MA'] = df[field].rolling(window=win).mean()\n",
    "    return df\n",
    "\n",
    "cal_rolling_avg(sydweather,'avg_temp',10).head(15)"
   ]
  },
  {
   "cell_type": "code",
   "execution_count": 4,
   "metadata": {
    "collapsed": false
   },
   "outputs": [
    {
     "name": "stdout",
     "output_type": "stream",
     "text": [
      "    year    city    country  avg_temp      MA\n",
      "9   1850  Sydney  Australia     16.51  16.538\n",
      "19  1860  Sydney  Australia     16.33  16.555\n",
      "29  1870  Sydney  Australia     16.84  16.832\n",
      "39  1880  Sydney  Australia     16.65  16.848\n",
      "49  1890  Sydney  Australia     16.77  16.813\n"
     ]
    }
   ],
   "source": [
    "#-----------------------------------------------------------------------------#\n",
    "#Since the moving average was calculated for every 10 years a new dataframe is\n",
    "#created with the respective years\n",
    "#-----------------------------------------------------------------------------#\n",
    "\n",
    "sydweather2 = sydweather.loc[sydweather['year'].isin(['1850','1860','1870','1880',\\\n",
    "                                                      '1890','1900','1910','1920',\\\n",
    "                                                      '1930','1940','1950','1960',\\\n",
    "                                                      '1970','1980','1990','2000',\\\n",
    "                                                      '2010'])]\n",
    "print(sydweather2.head())"
   ]
  },
  {
   "cell_type": "markdown",
   "metadata": {
    "collapsed": false
   },
   "source": [
    "Global weather data\n",
    "-------------------"
   ]
  },
  {
   "cell_type": "code",
   "execution_count": 5,
   "metadata": {
    "collapsed": false
   },
   "outputs": [
    {
     "name": "stdout",
     "output_type": "stream",
     "text": [
      "266\n",
      "   year  avg_temp\n",
      "0  1750      8.72\n",
      "1  1751      7.98\n",
      "2  1752      5.78\n",
      "3  1753      8.39\n",
      "4  1754      8.47\n"
     ]
    }
   ],
   "source": [
    "#-------------------------------#\n",
    "#Reading the global weather data\n",
    "#-------------------------------#\n",
    "\n",
    "globaldata = pd.read_csv('global_data.csv')\n",
    "print(len(globaldata))\n",
    "print(globaldata.head())"
   ]
  },
  {
   "cell_type": "code",
   "execution_count": 6,
   "metadata": {
    "collapsed": false
   },
   "outputs": [
    {
     "data": {
      "text/html": [
       "<div>\n",
       "<style scoped>\n",
       "    .dataframe tbody tr th:only-of-type {\n",
       "        vertical-align: middle;\n",
       "    }\n",
       "\n",
       "    .dataframe tbody tr th {\n",
       "        vertical-align: top;\n",
       "    }\n",
       "\n",
       "    .dataframe thead th {\n",
       "        text-align: right;\n",
       "    }\n",
       "</style>\n",
       "<table border=\"1\" class=\"dataframe\">\n",
       "  <thead>\n",
       "    <tr style=\"text-align: right;\">\n",
       "      <th></th>\n",
       "      <th>year</th>\n",
       "      <th>avg_temp</th>\n",
       "      <th>MA</th>\n",
       "    </tr>\n",
       "  </thead>\n",
       "  <tbody>\n",
       "    <tr>\n",
       "      <th>91</th>\n",
       "      <td>1841</td>\n",
       "      <td>7.69</td>\n",
       "      <td>NaN</td>\n",
       "    </tr>\n",
       "    <tr>\n",
       "      <th>92</th>\n",
       "      <td>1842</td>\n",
       "      <td>8.02</td>\n",
       "      <td>NaN</td>\n",
       "    </tr>\n",
       "    <tr>\n",
       "      <th>93</th>\n",
       "      <td>1843</td>\n",
       "      <td>8.17</td>\n",
       "      <td>NaN</td>\n",
       "    </tr>\n",
       "    <tr>\n",
       "      <th>94</th>\n",
       "      <td>1844</td>\n",
       "      <td>7.65</td>\n",
       "      <td>NaN</td>\n",
       "    </tr>\n",
       "    <tr>\n",
       "      <th>95</th>\n",
       "      <td>1845</td>\n",
       "      <td>7.85</td>\n",
       "      <td>NaN</td>\n",
       "    </tr>\n",
       "    <tr>\n",
       "      <th>96</th>\n",
       "      <td>1846</td>\n",
       "      <td>8.55</td>\n",
       "      <td>NaN</td>\n",
       "    </tr>\n",
       "    <tr>\n",
       "      <th>97</th>\n",
       "      <td>1847</td>\n",
       "      <td>8.09</td>\n",
       "      <td>NaN</td>\n",
       "    </tr>\n",
       "    <tr>\n",
       "      <th>98</th>\n",
       "      <td>1848</td>\n",
       "      <td>7.98</td>\n",
       "      <td>NaN</td>\n",
       "    </tr>\n",
       "    <tr>\n",
       "      <th>99</th>\n",
       "      <td>1849</td>\n",
       "      <td>7.98</td>\n",
       "      <td>NaN</td>\n",
       "    </tr>\n",
       "    <tr>\n",
       "      <th>100</th>\n",
       "      <td>1850</td>\n",
       "      <td>7.90</td>\n",
       "      <td>7.988</td>\n",
       "    </tr>\n",
       "    <tr>\n",
       "      <th>101</th>\n",
       "      <td>1851</td>\n",
       "      <td>8.18</td>\n",
       "      <td>8.037</td>\n",
       "    </tr>\n",
       "    <tr>\n",
       "      <th>102</th>\n",
       "      <td>1852</td>\n",
       "      <td>8.10</td>\n",
       "      <td>8.045</td>\n",
       "    </tr>\n",
       "    <tr>\n",
       "      <th>103</th>\n",
       "      <td>1853</td>\n",
       "      <td>8.04</td>\n",
       "      <td>8.032</td>\n",
       "    </tr>\n",
       "    <tr>\n",
       "      <th>104</th>\n",
       "      <td>1854</td>\n",
       "      <td>8.21</td>\n",
       "      <td>8.088</td>\n",
       "    </tr>\n",
       "    <tr>\n",
       "      <th>105</th>\n",
       "      <td>1855</td>\n",
       "      <td>8.11</td>\n",
       "      <td>8.114</td>\n",
       "    </tr>\n",
       "  </tbody>\n",
       "</table>\n",
       "</div>"
      ],
      "text/plain": [
       "     year  avg_temp     MA\n",
       "91   1841      7.69    NaN\n",
       "92   1842      8.02    NaN\n",
       "93   1843      8.17    NaN\n",
       "94   1844      7.65    NaN\n",
       "95   1845      7.85    NaN\n",
       "96   1846      8.55    NaN\n",
       "97   1847      8.09    NaN\n",
       "98   1848      7.98    NaN\n",
       "99   1849      7.98    NaN\n",
       "100  1850      7.90  7.988\n",
       "101  1851      8.18  8.037\n",
       "102  1852      8.10  8.045\n",
       "103  1853      8.04  8.032\n",
       "104  1854      8.21  8.088\n",
       "105  1855      8.11  8.114"
      ]
     },
     "execution_count": 6,
     "metadata": {
     },
     "output_type": "execute_result"
    }
   ],
   "source": [
    "#------------------------------------------------------#\n",
    "#Calculating the moving average for Global weather data\n",
    "#------------------------------------------------------#\n",
    "\n",
    "globaldata = globaldata.iloc[91:264]\n",
    "\n",
    "cal_rolling_avg(globaldata,'avg_temp',10).head(15)"
   ]
  },
  {
   "cell_type": "code",
   "execution_count": 7,
   "metadata": {
    "collapsed": false
   },
   "outputs": [
    {
     "name": "stdout",
     "output_type": "stream",
     "text": [
      "     year  global_avg_temp  Global_MA\n",
      "100  1850             7.90      7.988\n",
      "110  1860             7.96      8.071\n",
      "120  1870             8.20      8.129\n",
      "130  1880             8.12      8.269\n",
      "140  1890             7.97      8.031\n"
     ]
    }
   ],
   "source": [
    "#--------------------------------------------------#\n",
    "#Renaming the Global weather data dataframe columns\n",
    "#--------------------------------------------------#\n",
    "\n",
    "globaldata.columns = ['year','global_avg_temp','Global_MA']\n",
    "globaldata2 = globaldata.loc[globaldata['year'].isin(['1850','1860','1870',\\\n",
    "                                                      '1880','1890','1900',\\\n",
    "                                                      '1910','1920','1930',\\\n",
    "                                                      '1940','1950','1960',\\\n",
    "                                                      '1970','1980','1990',\\\n",
    "                                                      '2000','2010'])]\n",
    "\n",
    "print(globaldata2.head())"
   ]
  },
  {
   "cell_type": "markdown",
   "metadata": {
    "collapsed": false
   },
   "source": [
    "\n",
    "Colombo weather data\n",
    "--------------------"
   ]
  },
  {
   "cell_type": "code",
   "execution_count": 8,
   "metadata": {
    "collapsed": false
   },
   "outputs": [
    {
     "name": "stdout",
     "output_type": "stream",
     "text": [
      "173\n",
      "    year     city    country  avg_temp\n",
      "54  1850  Colombo  Sri Lanka     25.42\n",
      "55  1851  Colombo  Sri Lanka     25.58\n",
      "56  1852  Colombo  Sri Lanka     25.53\n",
      "57  1853  Colombo  Sri Lanka     25.77\n",
      "58  1854  Colombo  Sri Lanka     25.64\n",
      "59  1855  Colombo  Sri Lanka     25.62\n",
      "60  1856  Colombo  Sri Lanka     25.32\n",
      "61  1857  Colombo  Sri Lanka     25.23\n",
      "62  1858  Colombo  Sri Lanka     25.70\n",
      "63  1859  Colombo  Sri Lanka     25.56\n",
      "64  1860  Colombo  Sri Lanka     25.51\n",
      "65  1861  Colombo  Sri Lanka     25.23\n",
      "66  1862  Colombo  Sri Lanka     24.64\n",
      "67  1863  Colombo  Sri Lanka       NaN\n",
      "68  1864  Colombo  Sri Lanka       NaN\n"
     ]
    }
   ],
   "source": [
    "#-------------------------------#\n",
    "#Reading the Colombo weather data\n",
    "#-------------------------------#\n",
    "\n",
    "colombodata = pd.read_csv('colombo_data.csv')\n",
    "colombodata = colombodata.iloc[54:218]\n",
    "print(len(globaldata))\n",
    "print(colombodata.head(15))"
   ]
  },
  {
   "cell_type": "code",
   "execution_count": 9,
   "metadata": {
    "collapsed": false
   },
   "outputs": [
    {
     "data": {
      "text/html": [
       "<div>\n",
       "<style scoped>\n",
       "    .dataframe tbody tr th:only-of-type {\n",
       "        vertical-align: middle;\n",
       "    }\n",
       "\n",
       "    .dataframe tbody tr th {\n",
       "        vertical-align: top;\n",
       "    }\n",
       "\n",
       "    .dataframe thead th {\n",
       "        text-align: right;\n",
       "    }\n",
       "</style>\n",
       "<table border=\"1\" class=\"dataframe\">\n",
       "  <thead>\n",
       "    <tr style=\"text-align: right;\">\n",
       "      <th></th>\n",
       "      <th>year</th>\n",
       "      <th>city</th>\n",
       "      <th>country</th>\n",
       "      <th>avg_temp</th>\n",
       "      <th>MA</th>\n",
       "    </tr>\n",
       "  </thead>\n",
       "  <tbody>\n",
       "    <tr>\n",
       "      <th>54</th>\n",
       "      <td>1850</td>\n",
       "      <td>Colombo</td>\n",
       "      <td>Sri Lanka</td>\n",
       "      <td>25.42</td>\n",
       "      <td>NaN</td>\n",
       "    </tr>\n",
       "    <tr>\n",
       "      <th>55</th>\n",
       "      <td>1851</td>\n",
       "      <td>Colombo</td>\n",
       "      <td>Sri Lanka</td>\n",
       "      <td>25.58</td>\n",
       "      <td>NaN</td>\n",
       "    </tr>\n",
       "    <tr>\n",
       "      <th>56</th>\n",
       "      <td>1852</td>\n",
       "      <td>Colombo</td>\n",
       "      <td>Sri Lanka</td>\n",
       "      <td>25.53</td>\n",
       "      <td>NaN</td>\n",
       "    </tr>\n",
       "    <tr>\n",
       "      <th>57</th>\n",
       "      <td>1853</td>\n",
       "      <td>Colombo</td>\n",
       "      <td>Sri Lanka</td>\n",
       "      <td>25.77</td>\n",
       "      <td>NaN</td>\n",
       "    </tr>\n",
       "    <tr>\n",
       "      <th>58</th>\n",
       "      <td>1854</td>\n",
       "      <td>Colombo</td>\n",
       "      <td>Sri Lanka</td>\n",
       "      <td>25.64</td>\n",
       "      <td>NaN</td>\n",
       "    </tr>\n",
       "    <tr>\n",
       "      <th>59</th>\n",
       "      <td>1855</td>\n",
       "      <td>Colombo</td>\n",
       "      <td>Sri Lanka</td>\n",
       "      <td>25.62</td>\n",
       "      <td>NaN</td>\n",
       "    </tr>\n",
       "    <tr>\n",
       "      <th>60</th>\n",
       "      <td>1856</td>\n",
       "      <td>Colombo</td>\n",
       "      <td>Sri Lanka</td>\n",
       "      <td>25.32</td>\n",
       "      <td>NaN</td>\n",
       "    </tr>\n",
       "    <tr>\n",
       "      <th>61</th>\n",
       "      <td>1857</td>\n",
       "      <td>Colombo</td>\n",
       "      <td>Sri Lanka</td>\n",
       "      <td>25.23</td>\n",
       "      <td>NaN</td>\n",
       "    </tr>\n",
       "    <tr>\n",
       "      <th>62</th>\n",
       "      <td>1858</td>\n",
       "      <td>Colombo</td>\n",
       "      <td>Sri Lanka</td>\n",
       "      <td>25.70</td>\n",
       "      <td>NaN</td>\n",
       "    </tr>\n",
       "    <tr>\n",
       "      <th>63</th>\n",
       "      <td>1859</td>\n",
       "      <td>Colombo</td>\n",
       "      <td>Sri Lanka</td>\n",
       "      <td>25.56</td>\n",
       "      <td>25.537</td>\n",
       "    </tr>\n",
       "    <tr>\n",
       "      <th>64</th>\n",
       "      <td>1860</td>\n",
       "      <td>Colombo</td>\n",
       "      <td>Sri Lanka</td>\n",
       "      <td>25.51</td>\n",
       "      <td>25.546</td>\n",
       "    </tr>\n",
       "    <tr>\n",
       "      <th>65</th>\n",
       "      <td>1861</td>\n",
       "      <td>Colombo</td>\n",
       "      <td>Sri Lanka</td>\n",
       "      <td>25.23</td>\n",
       "      <td>25.511</td>\n",
       "    </tr>\n",
       "    <tr>\n",
       "      <th>66</th>\n",
       "      <td>1862</td>\n",
       "      <td>Colombo</td>\n",
       "      <td>Sri Lanka</td>\n",
       "      <td>24.64</td>\n",
       "      <td>25.422</td>\n",
       "    </tr>\n",
       "    <tr>\n",
       "      <th>67</th>\n",
       "      <td>1863</td>\n",
       "      <td>Colombo</td>\n",
       "      <td>Sri Lanka</td>\n",
       "      <td>NaN</td>\n",
       "      <td>NaN</td>\n",
       "    </tr>\n",
       "    <tr>\n",
       "      <th>68</th>\n",
       "      <td>1864</td>\n",
       "      <td>Colombo</td>\n",
       "      <td>Sri Lanka</td>\n",
       "      <td>NaN</td>\n",
       "      <td>NaN</td>\n",
       "    </tr>\n",
       "  </tbody>\n",
       "</table>\n",
       "</div>"
      ],
      "text/plain": [
       "    year     city    country  avg_temp      MA\n",
       "54  1850  Colombo  Sri Lanka     25.42     NaN\n",
       "55  1851  Colombo  Sri Lanka     25.58     NaN\n",
       "56  1852  Colombo  Sri Lanka     25.53     NaN\n",
       "57  1853  Colombo  Sri Lanka     25.77     NaN\n",
       "58  1854  Colombo  Sri Lanka     25.64     NaN\n",
       "59  1855  Colombo  Sri Lanka     25.62     NaN\n",
       "60  1856  Colombo  Sri Lanka     25.32     NaN\n",
       "61  1857  Colombo  Sri Lanka     25.23     NaN\n",
       "62  1858  Colombo  Sri Lanka     25.70     NaN\n",
       "63  1859  Colombo  Sri Lanka     25.56  25.537\n",
       "64  1860  Colombo  Sri Lanka     25.51  25.546\n",
       "65  1861  Colombo  Sri Lanka     25.23  25.511\n",
       "66  1862  Colombo  Sri Lanka     24.64  25.422\n",
       "67  1863  Colombo  Sri Lanka       NaN     NaN\n",
       "68  1864  Colombo  Sri Lanka       NaN     NaN"
      ]
     },
     "execution_count": 9,
     "metadata": {
     },
     "output_type": "execute_result"
    }
   ],
   "source": [
    "#------------------------------------------------------#\n",
    "#Calculating the moving average for Colombo weather data\n",
    "#------------------------------------------------------#\n",
    "\n",
    "cal_rolling_avg(colombodata,'avg_temp',10).head(15)"
   ]
  },
  {
   "cell_type": "code",
   "execution_count": 10,
   "metadata": {
    "collapsed": false
   },
   "outputs": [
    {
     "name": "stdout",
     "output_type": "stream",
     "text": [
      "    year     city    country  colombo_avg_temp  Colombo_MA\n",
      "54  1850  Colombo  Sri Lanka             25.42         NaN\n",
      "64  1860  Colombo  Sri Lanka             25.51      25.546\n",
      "74  1870  Colombo  Sri Lanka             25.43         NaN\n",
      "84  1880  Colombo  Sri Lanka             25.64      25.658\n",
      "94  1890  Colombo  Sri Lanka             25.64      25.652\n"
     ]
    }
   ],
   "source": [
    "#--------------------------------------------------#\n",
    "#Renaming the Colombo weather data dataframe columns\n",
    "#--------------------------------------------------#\n",
    "\n",
    "colombodata.columns = ['year','city','country','colombo_avg_temp','Colombo_MA']\n",
    "colombodata2 = colombodata.loc[colombodata['year'].isin(['1850','1860','1870',\\\n",
    "                                                        '1880','1890','1900',\\\n",
    "                                                        '1910','1920','1930',\\\n",
    "                                                        '1940','1950','1960',\\\n",
    "                                                        '1970','1980','1990',\\\n",
    "                                                        '2000','2010'])]\n",
    "\n",
    "print(colombodata2.head())"
   ]
  },
  {
   "cell_type": "code",
   "execution_count": 11,
   "metadata": {
    "collapsed": false
   },
   "outputs": [
    {
     "name": "stdout",
     "output_type": "stream",
     "text": [
      "   year  city_x  country_x  avg_temp      MA  global_avg_temp  Global_MA  \\\n",
      "0  1850  Sydney  Australia     16.51  16.538             7.90      7.988   \n",
      "1  1860  Sydney  Australia     16.33  16.555             7.96      8.071   \n",
      "2  1870  Sydney  Australia     16.84  16.832             8.20      8.129   \n",
      "3  1880  Sydney  Australia     16.65  16.848             8.12      8.269   \n",
      "4  1890  Sydney  Australia     16.77  16.813             7.97      8.031   \n",
      "\n",
      "    city_y  country_y  colombo_avg_temp  Colombo_MA  \n",
      "0  Colombo  Sri Lanka             25.42         NaN  \n",
      "1  Colombo  Sri Lanka             25.51      25.546  \n",
      "2  Colombo  Sri Lanka             25.43         NaN  \n",
      "3  Colombo  Sri Lanka             25.64      25.658  \n",
      "4  Colombo  Sri Lanka             25.64      25.652  \n"
     ]
    }
   ],
   "source": [
    "#------------------------------#\n",
    "#Merging the the two dataframes\n",
    "#------------------------------#\n",
    "\n",
    "weathe = pd.merge(sydweather2, globaldata2, on='year')\n",
    "weather = pd.merge(weathe, colombodata2, on='year')\n",
    "print(weather.head())"
   ]
  },
  {
   "cell_type": "code",
   "execution_count": 12,
   "metadata": {
    "collapsed": false
   },
   "outputs": [
    {
     "data": {
      "text/plain": [
       "Text(0,0.5,'Temperature Celsius (C°)')"
      ]
     },
     "execution_count": 12,
     "metadata": {
     },
     "output_type": "execute_result"
    },
    {
     "data": {
      "image/png": "[encoded data removed]",
      "text/plain": "<matplotlib.figure.Figure at 0x7ff0a9a37518>"
     },
     "metadata": {
      "image/png": {
       "height": 277,
       "width": 393
      }
     }
    }
   ],
   "source": [
    "#-----------------------#\n",
    "#Plotting the line graph\n",
    "#-----------------------#\n",
    "\n",
    "chart = weather.plot(kind='line', x='year', y=['Colombo_MA','MA','Global_MA'], label=['Colombo','Sydney','Global'], title='Global Temperature patterns')\n",
    "chart.set_xlabel('Year')\n",
    "chart.set_ylabel('Temperature Celsius (C°)')"
   ]
  },
  {
   "cell_type": "markdown",
   "metadata": {
    "collapsed": false
   },
   "source": [
    "My Observations\n",
    "---------------\n",
    "\n",
    "1) It's quite evident that over the 160 years period the temperature across the globe and in Sydney has steadily increased by approximately 1.2 - 1.5 degrees\n",
    "\n",
    "2) Across the globe each of the last four decades has been successively warmer than the previous decades since 1980s\n",
    "\n",
    "3) The average temperature in Sydney remained steady from 1860 to 1920 and again from 1950 to 1970\n",
    "\n",
    "4) Judging by the way the temperature in Sydney has been rising we can assume that by 2020 the temperature would have risen to an average of 18.2 degrees\n",
    "\n",
    "5) Colombo city too has seen a steady rise in temperature over the last 100 years\n",
    "\n",
    "6) This increase in temperature could be attributed to global warming"
   ]
  }
 ],
 "metadata": {
  "kernelspec": {
   "display_name": "Python 3 (system-wide)",
   "language": "python",
   "metadata": {
    "cocalc": {
     "description": "Python 3 programming language",
     "priority": 100,
     "url": "https://www.python.org/"
    }
   },
   "name": "python3"
  },
  "language_info": {
   "codemirror_mode": {
    "name": "ipython",
    "version": 3
   },
   "file_extension": ".py",
   "mimetype": "text/x-python",
   "name": "python",
   "nbconvert_exporter": "python",
   "pygments_lexer": "ipython3",
   "version": "3.6.8"
  }
 },
 "nbformat": 4,
 "nbformat_minor": 0
}